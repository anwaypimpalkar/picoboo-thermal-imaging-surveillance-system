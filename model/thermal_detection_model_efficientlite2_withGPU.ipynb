{
  "nbformat": 4,
  "nbformat_minor": 0,
  "metadata": {
    "colab": {
      "name": "Copy of thermal-detection-model_efficientlite2.ipynb",
      "provenance": [],
      "collapsed_sections": []
    },
    "kernelspec": {
      "name": "python3",
      "display_name": "Python 3"
    },
    "language_info": {
      "name": "python"
    },
    "accelerator": "GPU"
  },
  "cells": [
    {
      "cell_type": "code",
      "execution_count": 1,
      "metadata": {
        "id": "CwPcksTok9cK",
        "outputId": "e1e1d726-30c5-4da3-cdd0-d7acc327e132",
        "colab": {
          "base_uri": "https://localhost:8080/"
        }
      },
      "outputs": [
        {
          "output_type": "stream",
          "name": "stdout",
          "text": [
            "\u001b[K     |████████████████████████████████| 616 kB 5.2 MB/s \n",
            "\u001b[K     |████████████████████████████████| 596 kB 37.9 MB/s \n",
            "\u001b[K     |████████████████████████████████| 237 kB 43.5 MB/s \n",
            "\u001b[K     |████████████████████████████████| 1.1 MB 34.4 MB/s \n",
            "\u001b[K     |████████████████████████████████| 840 kB 40.5 MB/s \n",
            "\u001b[K     |████████████████████████████████| 1.2 MB 28.1 MB/s \n",
            "\u001b[K     |████████████████████████████████| 6.4 MB 22.0 MB/s \n",
            "\u001b[K     |████████████████████████████████| 120 kB 48.8 MB/s \n",
            "\u001b[K     |████████████████████████████████| 3.4 MB 38.3 MB/s \n",
            "\u001b[K     |████████████████████████████████| 77 kB 5.0 MB/s \n",
            "\u001b[K     |████████████████████████████████| 1.1 MB 36.9 MB/s \n",
            "\u001b[K     |████████████████████████████████| 87 kB 6.2 MB/s \n",
            "\u001b[K     |████████████████████████████████| 25.3 MB 1.7 MB/s \n",
            "\u001b[K     |████████████████████████████████| 47.8 MB 1.8 MB/s \n",
            "\u001b[K     |████████████████████████████████| 352 kB 43.5 MB/s \n",
            "\u001b[K     |████████████████████████████████| 99 kB 8.9 MB/s \n",
            "\u001b[K     |████████████████████████████████| 462 kB 35.0 MB/s \n",
            "\u001b[K     |████████████████████████████████| 213 kB 48.8 MB/s \n",
            "\u001b[?25h  Building wheel for fire (setup.py) ... \u001b[?25l\u001b[?25hdone\n",
            "  Building wheel for py-cpuinfo (setup.py) ... \u001b[?25l\u001b[?25hdone\n"
          ]
        }
      ],
      "source": [
        "!pip install -q tflite-model-maker\n",
        "!pip install -q tflite-support"
      ]
    },
    {
      "cell_type": "code",
      "source": [
        "import numpy as np\n",
        "import os"
      ],
      "metadata": {
        "id": "mmNUGlyunWGL"
      },
      "execution_count": 2,
      "outputs": []
    },
    {
      "cell_type": "code",
      "source": [
        "from tflite_model_maker.config import ExportFormat, QuantizationConfig\n",
        "from tflite_model_maker import model_spec\n",
        "from tflite_model_maker import object_detector\n",
        "\n",
        "from tflite_support import metadata\n",
        "\n",
        "import tensorflow as tf\n",
        "assert tf.__version__.startswith('2')\n",
        "\n",
        "tf.get_logger().setLevel('ERROR')\n",
        "from absl import logging\n",
        "logging.set_verbosity(logging.ERROR)"
      ],
      "metadata": {
        "id": "aFKiRsV1lEk3"
      },
      "execution_count": 3,
      "outputs": []
    },
    {
      "cell_type": "code",
      "source": [
        "!wget https://github.com/anwaypimpalkar/picoboo-thermal-imaging-surveillance-system/raw/main/data/human-thermal-dataset.zip\n",
        "!unzip -q human-thermal-dataset.zip"
      ],
      "metadata": {
        "colab": {
          "base_uri": "https://localhost:8080/"
        },
        "id": "UT-wsb7FlzDJ",
        "outputId": "17d5dc9e-c8be-4d98-e884-06cb64de482d"
      },
      "execution_count": 4,
      "outputs": [
        {
          "output_type": "stream",
          "name": "stdout",
          "text": [
            "--2022-04-13 07:32:23--  https://github.com/anwaypimpalkar/picoboo-thermal-imaging-surveillance-system/raw/main/data/human-thermal-dataset.zip\n",
            "Resolving github.com (github.com)... 140.82.112.4\n",
            "Connecting to github.com (github.com)|140.82.112.4|:443... connected.\n",
            "HTTP request sent, awaiting response... 302 Found\n",
            "Location: https://raw.githubusercontent.com/anwaypimpalkar/picoboo-thermal-imaging-surveillance-system/main/data/human-thermal-dataset.zip [following]\n",
            "--2022-04-13 07:32:23--  https://raw.githubusercontent.com/anwaypimpalkar/picoboo-thermal-imaging-surveillance-system/main/data/human-thermal-dataset.zip\n",
            "Resolving raw.githubusercontent.com (raw.githubusercontent.com)... 185.199.108.133, 185.199.111.133, 185.199.110.133, ...\n",
            "Connecting to raw.githubusercontent.com (raw.githubusercontent.com)|185.199.108.133|:443... connected.\n",
            "HTTP request sent, awaiting response... 200 OK\n",
            "Length: 40972922 (39M) [application/zip]\n",
            "Saving to: ‘human-thermal-dataset.zip’\n",
            "\n",
            "human-thermal-datas 100%[===================>]  39.07M   192MB/s    in 0.2s    \n",
            "\n",
            "2022-04-13 07:32:24 (192 MB/s) - ‘human-thermal-dataset.zip’ saved [40972922/40972922]\n",
            "\n"
          ]
        }
      ]
    },
    {
      "cell_type": "code",
      "source": [
        "train_data = object_detector.DataLoader.from_pascal_voc(\n",
        "    'human-thermal-dataset/train',\n",
        "    'human-thermal-dataset/train',\n",
        "    ['human']\n",
        ")\n",
        "\n",
        "val_data = object_detector.DataLoader.from_pascal_voc(\n",
        "    'human-thermal-dataset/validate',\n",
        "    'human-thermal-dataset/validate',\n",
        "    ['human']\n",
        ")"
      ],
      "metadata": {
        "id": "S4fnEh7Cq_Hb"
      },
      "execution_count": 5,
      "outputs": []
    },
    {
      "cell_type": "code",
      "source": [
        "train_data.size"
      ],
      "metadata": {
        "colab": {
          "base_uri": "https://localhost:8080/"
        },
        "id": "8YRzyWnrtl5T",
        "outputId": "aa511ddd-3631-45f2-b3e6-7406edd84446"
      },
      "execution_count": 6,
      "outputs": [
        {
          "output_type": "execute_result",
          "data": {
            "text/plain": [
              "388"
            ]
          },
          "metadata": {},
          "execution_count": 6
        }
      ]
    },
    {
      "cell_type": "code",
      "source": [
        "val_data.size"
      ],
      "metadata": {
        "colab": {
          "base_uri": "https://localhost:8080/"
        },
        "id": "teuI7avSuBHE",
        "outputId": "bdd86e23-ef87-4a22-ccb9-7d50074e1e89"
      },
      "execution_count": 7,
      "outputs": [
        {
          "output_type": "execute_result",
          "data": {
            "text/plain": [
              "18"
            ]
          },
          "metadata": {},
          "execution_count": 7
        }
      ]
    },
    {
      "cell_type": "code",
      "source": [
        "spec = model_spec.get('efficientdet_lite2')"
      ],
      "metadata": {
        "id": "ObaWfCyTtVHv"
      },
      "execution_count": 8,
      "outputs": []
    },
    {
      "cell_type": "code",
      "source": [
        "model = object_detector.create(train_data, model_spec=spec, batch_size=16, train_whole_model=True, epochs=20, validation_data=val_data)"
      ],
      "metadata": {
        "colab": {
          "base_uri": "https://localhost:8080/"
        },
        "id": "4fc-FoDvtW82",
        "outputId": "a0faee5e-a339-4528-8830-f66fb63e4cb2"
      },
      "execution_count": 9,
      "outputs": [
        {
          "output_type": "stream",
          "name": "stdout",
          "text": [
            "Epoch 1/20\n",
            "24/24 [==============================] - 110s 2s/step - det_loss: 1.4404 - cls_loss: 0.9343 - box_loss: 0.0101 - reg_l2_loss: 0.0759 - loss: 1.5163 - learning_rate: 0.0140 - gradient_norm: 2.2853 - val_det_loss: 1.1238 - val_cls_loss: 0.6617 - val_box_loss: 0.0092 - val_reg_l2_loss: 0.0759 - val_loss: 1.1997\n",
            "Epoch 2/20\n",
            "24/24 [==============================] - 43s 2s/step - det_loss: 0.6731 - cls_loss: 0.3953 - box_loss: 0.0056 - reg_l2_loss: 0.0760 - loss: 0.7490 - learning_rate: 0.0197 - gradient_norm: 3.8406 - val_det_loss: 0.8188 - val_cls_loss: 0.4842 - val_box_loss: 0.0067 - val_reg_l2_loss: 0.0761 - val_loss: 0.8949\n",
            "Epoch 3/20\n",
            "24/24 [==============================] - 42s 2s/step - det_loss: 0.5192 - cls_loss: 0.3010 - box_loss: 0.0044 - reg_l2_loss: 0.0762 - loss: 0.5954 - learning_rate: 0.0191 - gradient_norm: 3.7748 - val_det_loss: 0.6721 - val_cls_loss: 0.4151 - val_box_loss: 0.0051 - val_reg_l2_loss: 0.0763 - val_loss: 0.7484\n",
            "Epoch 4/20\n",
            "24/24 [==============================] - 43s 2s/step - det_loss: 0.4365 - cls_loss: 0.2615 - box_loss: 0.0035 - reg_l2_loss: 0.0764 - loss: 0.5129 - learning_rate: 0.0184 - gradient_norm: 3.2805 - val_det_loss: 0.6769 - val_cls_loss: 0.4033 - val_box_loss: 0.0055 - val_reg_l2_loss: 0.0765 - val_loss: 0.7534\n",
            "Epoch 5/20\n",
            "24/24 [==============================] - 51s 2s/step - det_loss: 0.4231 - cls_loss: 0.2507 - box_loss: 0.0034 - reg_l2_loss: 0.0766 - loss: 0.4997 - learning_rate: 0.0174 - gradient_norm: 3.1766 - val_det_loss: 0.5760 - val_cls_loss: 0.3630 - val_box_loss: 0.0043 - val_reg_l2_loss: 0.0767 - val_loss: 0.6527\n",
            "Epoch 6/20\n",
            "24/24 [==============================] - 43s 2s/step - det_loss: 0.4151 - cls_loss: 0.2502 - box_loss: 0.0033 - reg_l2_loss: 0.0767 - loss: 0.4918 - learning_rate: 0.0161 - gradient_norm: 2.6252 - val_det_loss: 0.4653 - val_cls_loss: 0.2717 - val_box_loss: 0.0039 - val_reg_l2_loss: 0.0768 - val_loss: 0.5420\n",
            "Epoch 7/20\n",
            "24/24 [==============================] - 43s 2s/step - det_loss: 0.3568 - cls_loss: 0.2183 - box_loss: 0.0028 - reg_l2_loss: 0.0768 - loss: 0.4336 - learning_rate: 0.0148 - gradient_norm: 2.5847 - val_det_loss: 0.4462 - val_cls_loss: 0.2846 - val_box_loss: 0.0032 - val_reg_l2_loss: 0.0768 - val_loss: 0.5230\n",
            "Epoch 8/20\n",
            "24/24 [==============================] - 42s 2s/step - det_loss: 0.3604 - cls_loss: 0.2222 - box_loss: 0.0028 - reg_l2_loss: 0.0769 - loss: 0.4373 - learning_rate: 0.0132 - gradient_norm: 3.2439 - val_det_loss: 0.4160 - val_cls_loss: 0.2318 - val_box_loss: 0.0037 - val_reg_l2_loss: 0.0769 - val_loss: 0.4929\n",
            "Epoch 9/20\n",
            "24/24 [==============================] - 42s 2s/step - det_loss: 0.3151 - cls_loss: 0.2009 - box_loss: 0.0023 - reg_l2_loss: 0.0769 - loss: 0.3921 - learning_rate: 0.0116 - gradient_norm: 2.5170 - val_det_loss: 0.4396 - val_cls_loss: 0.2855 - val_box_loss: 0.0031 - val_reg_l2_loss: 0.0769 - val_loss: 0.5166\n",
            "Epoch 10/20\n",
            "24/24 [==============================] - 44s 2s/step - det_loss: 0.3132 - cls_loss: 0.1879 - box_loss: 0.0025 - reg_l2_loss: 0.0770 - loss: 0.3902 - learning_rate: 0.0100 - gradient_norm: 2.5795 - val_det_loss: 0.3810 - val_cls_loss: 0.2370 - val_box_loss: 0.0029 - val_reg_l2_loss: 0.0770 - val_loss: 0.4579\n",
            "Epoch 11/20\n",
            "24/24 [==============================] - 42s 2s/step - det_loss: 0.2936 - cls_loss: 0.1801 - box_loss: 0.0023 - reg_l2_loss: 0.0770 - loss: 0.3706 - learning_rate: 0.0084 - gradient_norm: 2.7245 - val_det_loss: 0.3440 - val_cls_loss: 0.2209 - val_box_loss: 0.0025 - val_reg_l2_loss: 0.0770 - val_loss: 0.4210\n",
            "Epoch 12/20\n",
            "24/24 [==============================] - 42s 2s/step - det_loss: 0.2705 - cls_loss: 0.1710 - box_loss: 0.0020 - reg_l2_loss: 0.0770 - loss: 0.3475 - learning_rate: 0.0068 - gradient_norm: 2.3003 - val_det_loss: 0.3795 - val_cls_loss: 0.2390 - val_box_loss: 0.0028 - val_reg_l2_loss: 0.0770 - val_loss: 0.4565\n",
            "Epoch 13/20\n",
            "24/24 [==============================] - 42s 2s/step - det_loss: 0.2587 - cls_loss: 0.1620 - box_loss: 0.0019 - reg_l2_loss: 0.0770 - loss: 0.3357 - learning_rate: 0.0052 - gradient_norm: 1.9900 - val_det_loss: 0.3130 - val_cls_loss: 0.1959 - val_box_loss: 0.0023 - val_reg_l2_loss: 0.0770 - val_loss: 0.3900\n",
            "Epoch 14/20\n",
            "24/24 [==============================] - 43s 2s/step - det_loss: 0.2630 - cls_loss: 0.1679 - box_loss: 0.0019 - reg_l2_loss: 0.0770 - loss: 0.3400 - learning_rate: 0.0039 - gradient_norm: 2.1198 - val_det_loss: 0.3111 - val_cls_loss: 0.1975 - val_box_loss: 0.0023 - val_reg_l2_loss: 0.0770 - val_loss: 0.3881\n",
            "Epoch 15/20\n",
            "24/24 [==============================] - 44s 2s/step - det_loss: 0.2326 - cls_loss: 0.1556 - box_loss: 0.0015 - reg_l2_loss: 0.0770 - loss: 0.3097 - learning_rate: 0.0027 - gradient_norm: 2.3028 - val_det_loss: 0.3043 - val_cls_loss: 0.1953 - val_box_loss: 0.0022 - val_reg_l2_loss: 0.0770 - val_loss: 0.3813\n",
            "Epoch 16/20\n",
            "24/24 [==============================] - 42s 2s/step - det_loss: 0.2344 - cls_loss: 0.1540 - box_loss: 0.0016 - reg_l2_loss: 0.0770 - loss: 0.3114 - learning_rate: 0.0016 - gradient_norm: 1.9173 - val_det_loss: 0.2935 - val_cls_loss: 0.1891 - val_box_loss: 0.0021 - val_reg_l2_loss: 0.0770 - val_loss: 0.3705\n",
            "Epoch 17/20\n",
            "24/24 [==============================] - 43s 2s/step - det_loss: 0.2138 - cls_loss: 0.1395 - box_loss: 0.0015 - reg_l2_loss: 0.0770 - loss: 0.2908 - learning_rate: 8.5447e-04 - gradient_norm: 1.7284 - val_det_loss: 0.2926 - val_cls_loss: 0.1879 - val_box_loss: 0.0021 - val_reg_l2_loss: 0.0770 - val_loss: 0.3696\n",
            "Epoch 18/20\n",
            "24/24 [==============================] - 42s 2s/step - det_loss: 0.2291 - cls_loss: 0.1511 - box_loss: 0.0016 - reg_l2_loss: 0.0770 - loss: 0.3061 - learning_rate: 3.1842e-04 - gradient_norm: 1.9184 - val_det_loss: 0.2904 - val_cls_loss: 0.1855 - val_box_loss: 0.0021 - val_reg_l2_loss: 0.0770 - val_loss: 0.3674\n",
            "Epoch 19/20\n",
            "24/24 [==============================] - 42s 2s/step - det_loss: 0.2298 - cls_loss: 0.1503 - box_loss: 0.0016 - reg_l2_loss: 0.0770 - loss: 0.3068 - learning_rate: 4.6459e-05 - gradient_norm: 1.7250 - val_det_loss: 0.2924 - val_cls_loss: 0.1870 - val_box_loss: 0.0021 - val_reg_l2_loss: 0.0770 - val_loss: 0.3694\n",
            "Epoch 20/20\n",
            "24/24 [==============================] - 44s 2s/step - det_loss: 0.2282 - cls_loss: 0.1486 - box_loss: 0.0016 - reg_l2_loss: 0.0770 - loss: 0.3052 - learning_rate: 4.6005e-05 - gradient_norm: 1.8014 - val_det_loss: 0.2938 - val_cls_loss: 0.1881 - val_box_loss: 0.0021 - val_reg_l2_loss: 0.0770 - val_loss: 0.3708\n"
          ]
        }
      ]
    },
    {
      "cell_type": "code",
      "source": [
        "model.evaluate(val_data)"
      ],
      "metadata": {
        "id": "8m3tnAw6tdwp",
        "outputId": "8c9a1bad-1649-4b40-ba7b-975daed4d444",
        "colab": {
          "base_uri": "https://localhost:8080/"
        }
      },
      "execution_count": 10,
      "outputs": [
        {
          "output_type": "stream",
          "name": "stdout",
          "text": [
            "\r1/1 [==============================] - 8s 8s/step\n",
            "\n"
          ]
        },
        {
          "output_type": "execute_result",
          "data": {
            "text/plain": [
              "{'AP': 0.75306594,\n",
              " 'AP50': 0.9970297,\n",
              " 'AP75': 0.91438556,\n",
              " 'AP_/human': 0.75306594,\n",
              " 'APl': 0.7883744,\n",
              " 'APm': 0.2025,\n",
              " 'APs': -1.0,\n",
              " 'ARl': 0.84444445,\n",
              " 'ARm': 0.3,\n",
              " 'ARmax1': 0.5736842,\n",
              " 'ARmax10': 0.81578946,\n",
              " 'ARmax100': 0.81578946,\n",
              " 'ARs': -1.0}"
            ]
          },
          "metadata": {},
          "execution_count": 10
        }
      ]
    },
    {
      "cell_type": "code",
      "source": [
        "model.export(export_dir='.', tflite_filename='human_thermal_efflite2.tflite')"
      ],
      "metadata": {
        "id": "OzBqacgV0yRA"
      },
      "execution_count": 18,
      "outputs": []
    },
    {
      "cell_type": "code",
      "source": [
        "model.evaluate_tflite('human_thermal_efflite2.tflite', val_data)"
      ],
      "metadata": {
        "id": "_4Hfcbch2GXj",
        "outputId": "ad1b3200-a1d3-4449-861b-7fb8491875f8",
        "colab": {
          "base_uri": "https://localhost:8080/"
        }
      },
      "execution_count": 19,
      "outputs": [
        {
          "output_type": "stream",
          "name": "stdout",
          "text": [
            "18/18 [==============================] - 165s 9s/step\n",
            "\n"
          ]
        },
        {
          "output_type": "execute_result",
          "data": {
            "text/plain": [
              "{'AP': 0.7267763,\n",
              " 'AP50': 0.9970297,\n",
              " 'AP75': 0.93584985,\n",
              " 'AP_/human': 0.7267763,\n",
              " 'APl': 0.7535018,\n",
              " 'APm': 0.22777778,\n",
              " 'APs': -1.0,\n",
              " 'ARl': 0.7888889,\n",
              " 'ARm': 0.7,\n",
              " 'ARmax1': 0.5473684,\n",
              " 'ARmax10': 0.7842105,\n",
              " 'ARmax100': 0.7842105,\n",
              " 'ARs': -1.0}"
            ]
          },
          "metadata": {},
          "execution_count": 19
        }
      ]
    },
    {
      "cell_type": "code",
      "source": [
        "# Download the TFLite model to your local computer.\n",
        "from google.colab import files\n",
        "files.download('human_thermal_efflite2.tflite')"
      ],
      "metadata": {
        "id": "GsboM9SF3BHm",
        "outputId": "6a46aecf-113d-43ce-e298-4ebd4d173cc2",
        "colab": {
          "base_uri": "https://localhost:8080/",
          "height": 17
        }
      },
      "execution_count": 20,
      "outputs": [
        {
          "output_type": "display_data",
          "data": {
            "text/plain": [
              "<IPython.core.display.Javascript object>"
            ],
            "application/javascript": [
              "\n",
              "    async function download(id, filename, size) {\n",
              "      if (!google.colab.kernel.accessAllowed) {\n",
              "        return;\n",
              "      }\n",
              "      const div = document.createElement('div');\n",
              "      const label = document.createElement('label');\n",
              "      label.textContent = `Downloading \"${filename}\": `;\n",
              "      div.appendChild(label);\n",
              "      const progress = document.createElement('progress');\n",
              "      progress.max = size;\n",
              "      div.appendChild(progress);\n",
              "      document.body.appendChild(div);\n",
              "\n",
              "      const buffers = [];\n",
              "      let downloaded = 0;\n",
              "\n",
              "      const channel = await google.colab.kernel.comms.open(id);\n",
              "      // Send a message to notify the kernel that we're ready.\n",
              "      channel.send({})\n",
              "\n",
              "      for await (const message of channel.messages) {\n",
              "        // Send a message to notify the kernel that we're ready.\n",
              "        channel.send({})\n",
              "        if (message.buffers) {\n",
              "          for (const buffer of message.buffers) {\n",
              "            buffers.push(buffer);\n",
              "            downloaded += buffer.byteLength;\n",
              "            progress.value = downloaded;\n",
              "          }\n",
              "        }\n",
              "      }\n",
              "      const blob = new Blob(buffers, {type: 'application/binary'});\n",
              "      const a = document.createElement('a');\n",
              "      a.href = window.URL.createObjectURL(blob);\n",
              "      a.download = filename;\n",
              "      div.appendChild(a);\n",
              "      a.click();\n",
              "      div.remove();\n",
              "    }\n",
              "  "
            ]
          },
          "metadata": {}
        },
        {
          "output_type": "display_data",
          "data": {
            "text/plain": [
              "<IPython.core.display.Javascript object>"
            ],
            "application/javascript": [
              "download(\"download_8d31a25e-7519-4f50-94ca-2c27e17ef6e3\", \"human_thermal_efflite2.tflite\", 7384708)"
            ]
          },
          "metadata": {}
        }
      ]
    }
  ]
}