{
  "nbformat": 4,
  "nbformat_minor": 0,
  "metadata": {
    "colab": {
      "name": "thermal-detection-model_efficientlite2.ipynb",
      "provenance": [],
      "collapsed_sections": []
    },
    "kernelspec": {
      "name": "python3",
      "display_name": "Python 3"
    },
    "language_info": {
      "name": "python"
    }
  },
  "cells": [
    {
      "cell_type": "code",
      "execution_count": 1,
      "metadata": {
        "id": "CwPcksTok9cK"
      },
      "outputs": [],
      "source": [
        "!pip install -q tflite-model-maker\n",
        "!pip install -q tflite-support"
      ]
    },
    {
      "cell_type": "code",
      "source": [
        "import numpy as np\n",
        "import os"
      ],
      "metadata": {
        "id": "mmNUGlyunWGL"
      },
      "execution_count": 2,
      "outputs": []
    },
    {
      "cell_type": "code",
      "source": [
        "from tflite_model_maker.config import ExportFormat, QuantizationConfig\n",
        "from tflite_model_maker import model_spec\n",
        "from tflite_model_maker import object_detector\n",
        "\n",
        "from tflite_support import metadata\n",
        "\n",
        "import tensorflow as tf\n",
        "assert tf.__version__.startswith('2')\n",
        "\n",
        "tf.get_logger().setLevel('ERROR')\n",
        "from absl import logging\n",
        "logging.set_verbosity(logging.ERROR)"
      ],
      "metadata": {
        "id": "aFKiRsV1lEk3"
      },
      "execution_count": 3,
      "outputs": []
    },
    {
      "cell_type": "code",
      "source": [
        "!wget https://github.com/anwaypimpalkar/picoboo-thermal-imaging-surveillance-system/raw/main/data/human-thermal-dataset.zip\n",
        "!unzip -q human-thermal-dataset.zip"
      ],
      "metadata": {
        "colab": {
          "base_uri": "https://localhost:8080/"
        },
        "id": "UT-wsb7FlzDJ",
        "outputId": "1b4f8164-f910-411f-a0fe-2efbd8341353"
      },
      "execution_count": 4,
      "outputs": [
        {
          "output_type": "stream",
          "name": "stdout",
          "text": [
            "--2022-04-13 04:41:12--  https://github.com/anwaypimpalkar/picoboo-thermal-imaging-surveillance-system/raw/main/data/human-thermal-dataset.zip\n",
            "Resolving github.com (github.com)... 52.192.72.89\n",
            "Connecting to github.com (github.com)|52.192.72.89|:443... connected.\n",
            "HTTP request sent, awaiting response... 302 Found\n",
            "Location: https://raw.githubusercontent.com/anwaypimpalkar/picoboo-thermal-imaging-surveillance-system/main/data/human-thermal-dataset.zip [following]\n",
            "--2022-04-13 04:41:13--  https://raw.githubusercontent.com/anwaypimpalkar/picoboo-thermal-imaging-surveillance-system/main/data/human-thermal-dataset.zip\n",
            "Resolving raw.githubusercontent.com (raw.githubusercontent.com)... 185.199.109.133, 185.199.108.133, 185.199.110.133, ...\n",
            "Connecting to raw.githubusercontent.com (raw.githubusercontent.com)|185.199.109.133|:443... connected.\n",
            "HTTP request sent, awaiting response... 200 OK\n",
            "Length: 40972922 (39M) [application/zip]\n",
            "Saving to: ‘human-thermal-dataset.zip’\n",
            "\n",
            "human-thermal-datas 100%[===================>]  39.07M   163MB/s    in 0.2s    \n",
            "\n",
            "2022-04-13 04:41:16 (163 MB/s) - ‘human-thermal-dataset.zip’ saved [40972922/40972922]\n",
            "\n"
          ]
        }
      ]
    },
    {
      "cell_type": "code",
      "source": [
        "train_data = object_detector.DataLoader.from_pascal_voc(\n",
        "    'human-thermal-dataset/train',\n",
        "    'human-thermal-dataset/train',\n",
        "    ['human']\n",
        ")\n",
        "\n",
        "val_data = object_detector.DataLoader.from_pascal_voc(\n",
        "    'human-thermal-dataset/validate',\n",
        "    'human-thermal-dataset/validate',\n",
        "    ['human']\n",
        ")"
      ],
      "metadata": {
        "id": "S4fnEh7Cq_Hb"
      },
      "execution_count": 4,
      "outputs": []
    },
    {
      "cell_type": "code",
      "source": [
        "train_data.size"
      ],
      "metadata": {
        "colab": {
          "base_uri": "https://localhost:8080/"
        },
        "id": "8YRzyWnrtl5T",
        "outputId": "5f71a8a5-d7f7-4869-8d42-bc90a0793a05"
      },
      "execution_count": 5,
      "outputs": [
        {
          "output_type": "execute_result",
          "data": {
            "text/plain": [
              "388"
            ]
          },
          "metadata": {},
          "execution_count": 5
        }
      ]
    },
    {
      "cell_type": "code",
      "source": [
        "val_data.size"
      ],
      "metadata": {
        "colab": {
          "base_uri": "https://localhost:8080/"
        },
        "id": "teuI7avSuBHE",
        "outputId": "1de6f411-f92f-4fa0-8b1f-66598f0baff2"
      },
      "execution_count": 6,
      "outputs": [
        {
          "output_type": "execute_result",
          "data": {
            "text/plain": [
              "18"
            ]
          },
          "metadata": {},
          "execution_count": 6
        }
      ]
    },
    {
      "cell_type": "code",
      "source": [
        "spec = model_spec.get('efficientdet_lite2')"
      ],
      "metadata": {
        "id": "ObaWfCyTtVHv"
      },
      "execution_count": 7,
      "outputs": []
    },
    {
      "cell_type": "code",
      "source": [
        "model = object_detector.create(train_data, model_spec=spec, batch_size=16, train_whole_model=True, epochs=20, validation_data=val_data)"
      ],
      "metadata": {
        "colab": {
          "base_uri": "https://localhost:8080/"
        },
        "id": "4fc-FoDvtW82",
        "outputId": "19b4d6dd-a5da-401d-e9a4-b7cabc92f331"
      },
      "execution_count": 8,
      "outputs": [
        {
          "output_type": "stream",
          "name": "stdout",
          "text": [
            "Epoch 1/20\n",
            "24/24 [==============================] - 696s 27s/step - det_loss: 1.4789 - cls_loss: 0.9487 - box_loss: 0.0106 - reg_l2_loss: 0.0759 - loss: 1.5548 - learning_rate: 0.0140 - gradient_norm: 2.2444 - val_det_loss: 1.2379 - val_cls_loss: 0.6700 - val_box_loss: 0.0114 - val_reg_l2_loss: 0.0759 - val_loss: 1.3138\n",
            "Epoch 2/20\n",
            "24/24 [==============================] - 613s 26s/step - det_loss: 0.7436 - cls_loss: 0.4219 - box_loss: 0.0064 - reg_l2_loss: 0.0760 - loss: 0.8196 - learning_rate: 0.0197 - gradient_norm: 3.2427 - val_det_loss: 1.0340 - val_cls_loss: 0.6122 - val_box_loss: 0.0084 - val_reg_l2_loss: 0.0761 - val_loss: 1.1101\n",
            "Epoch 3/20\n",
            "24/24 [==============================] - 587s 24s/step - det_loss: 0.4960 - cls_loss: 0.2876 - box_loss: 0.0042 - reg_l2_loss: 0.0761 - loss: 0.5722 - learning_rate: 0.0191 - gradient_norm: 3.7082 - val_det_loss: 1.0509 - val_cls_loss: 0.7074 - val_box_loss: 0.0069 - val_reg_l2_loss: 0.0762 - val_loss: 1.1271\n",
            "Epoch 4/20\n",
            "24/24 [==============================] - 584s 24s/step - det_loss: 0.4715 - cls_loss: 0.2732 - box_loss: 0.0040 - reg_l2_loss: 0.0764 - loss: 0.5478 - learning_rate: 0.0184 - gradient_norm: 3.7245 - val_det_loss: 1.5980 - val_cls_loss: 1.2227 - val_box_loss: 0.0075 - val_reg_l2_loss: 0.0765 - val_loss: 1.6745\n",
            "Epoch 5/20\n",
            "24/24 [==============================] - 602s 25s/step - det_loss: 0.4351 - cls_loss: 0.2550 - box_loss: 0.0036 - reg_l2_loss: 0.0766 - loss: 0.5117 - learning_rate: 0.0174 - gradient_norm: 3.0751 - val_det_loss: 0.6570 - val_cls_loss: 0.3619 - val_box_loss: 0.0059 - val_reg_l2_loss: 0.0767 - val_loss: 0.7336\n",
            "Epoch 6/20\n",
            "24/24 [==============================] - 572s 24s/step - det_loss: 0.3980 - cls_loss: 0.2407 - box_loss: 0.0031 - reg_l2_loss: 0.0767 - loss: 0.4747 - learning_rate: 0.0161 - gradient_norm: 2.6496 - val_det_loss: 0.5764 - val_cls_loss: 0.3373 - val_box_loss: 0.0048 - val_reg_l2_loss: 0.0768 - val_loss: 0.6531\n",
            "Epoch 7/20\n",
            "24/24 [==============================] - 577s 24s/step - det_loss: 0.3674 - cls_loss: 0.2217 - box_loss: 0.0029 - reg_l2_loss: 0.0768 - loss: 0.4442 - learning_rate: 0.0148 - gradient_norm: 3.3603 - val_det_loss: 0.8840 - val_cls_loss: 0.5345 - val_box_loss: 0.0070 - val_reg_l2_loss: 0.0769 - val_loss: 0.9609\n",
            "Epoch 8/20\n",
            "24/24 [==============================] - 585s 24s/step - det_loss: 0.3540 - cls_loss: 0.2144 - box_loss: 0.0028 - reg_l2_loss: 0.0769 - loss: 0.4309 - learning_rate: 0.0132 - gradient_norm: 3.5120 - val_det_loss: 1.4962 - val_cls_loss: 0.7416 - val_box_loss: 0.0151 - val_reg_l2_loss: 0.0770 - val_loss: 1.5732\n",
            "Epoch 9/20\n",
            "24/24 [==============================] - 574s 24s/step - det_loss: 0.3269 - cls_loss: 0.2064 - box_loss: 0.0024 - reg_l2_loss: 0.0770 - loss: 0.4040 - learning_rate: 0.0116 - gradient_norm: 2.9694 - val_det_loss: 1.6080 - val_cls_loss: 0.8787 - val_box_loss: 0.0146 - val_reg_l2_loss: 0.0771 - val_loss: 1.6851\n",
            "Epoch 10/20\n",
            "24/24 [==============================] - 573s 24s/step - det_loss: 0.3145 - cls_loss: 0.1926 - box_loss: 0.0024 - reg_l2_loss: 0.0771 - loss: 0.3917 - learning_rate: 0.0100 - gradient_norm: 2.6905 - val_det_loss: 0.4349 - val_cls_loss: 0.2529 - val_box_loss: 0.0036 - val_reg_l2_loss: 0.0771 - val_loss: 0.5121\n",
            "Epoch 11/20\n",
            "24/24 [==============================] - 574s 24s/step - det_loss: 0.2890 - cls_loss: 0.1810 - box_loss: 0.0022 - reg_l2_loss: 0.0771 - loss: 0.3661 - learning_rate: 0.0084 - gradient_norm: 2.6491 - val_det_loss: 0.4319 - val_cls_loss: 0.2514 - val_box_loss: 0.0036 - val_reg_l2_loss: 0.0772 - val_loss: 0.5091\n",
            "Epoch 12/20\n",
            "24/24 [==============================] - 566s 24s/step - det_loss: 0.2942 - cls_loss: 0.1833 - box_loss: 0.0022 - reg_l2_loss: 0.0772 - loss: 0.3714 - learning_rate: 0.0068 - gradient_norm: 2.7772 - val_det_loss: 0.3714 - val_cls_loss: 0.2032 - val_box_loss: 0.0034 - val_reg_l2_loss: 0.0772 - val_loss: 0.4486\n",
            "Epoch 13/20\n",
            "24/24 [==============================] - 573s 24s/step - det_loss: 0.2735 - cls_loss: 0.1769 - box_loss: 0.0019 - reg_l2_loss: 0.0772 - loss: 0.3507 - learning_rate: 0.0052 - gradient_norm: 2.6241 - val_det_loss: 0.3688 - val_cls_loss: 0.2246 - val_box_loss: 0.0029 - val_reg_l2_loss: 0.0772 - val_loss: 0.4460\n",
            "Epoch 14/20\n",
            "24/24 [==============================] - 573s 24s/step - det_loss: 0.2565 - cls_loss: 0.1608 - box_loss: 0.0019 - reg_l2_loss: 0.0772 - loss: 0.3337 - learning_rate: 0.0039 - gradient_norm: 2.2287 - val_det_loss: 0.3611 - val_cls_loss: 0.2187 - val_box_loss: 0.0028 - val_reg_l2_loss: 0.0772 - val_loss: 0.4382\n",
            "Epoch 15/20\n",
            "24/24 [==============================] - 573s 24s/step - det_loss: 0.2445 - cls_loss: 0.1552 - box_loss: 0.0018 - reg_l2_loss: 0.0772 - loss: 0.3217 - learning_rate: 0.0027 - gradient_norm: 2.2974 - val_det_loss: 0.3193 - val_cls_loss: 0.1938 - val_box_loss: 0.0025 - val_reg_l2_loss: 0.0772 - val_loss: 0.3965\n",
            "Epoch 16/20\n",
            "24/24 [==============================] - 570s 24s/step - det_loss: 0.2396 - cls_loss: 0.1523 - box_loss: 0.0017 - reg_l2_loss: 0.0772 - loss: 0.3167 - learning_rate: 0.0016 - gradient_norm: 1.8265 - val_det_loss: 0.3222 - val_cls_loss: 0.2016 - val_box_loss: 0.0024 - val_reg_l2_loss: 0.0772 - val_loss: 0.3994\n",
            "Epoch 17/20\n",
            "24/24 [==============================] - 575s 24s/step - det_loss: 0.2255 - cls_loss: 0.1453 - box_loss: 0.0016 - reg_l2_loss: 0.0772 - loss: 0.3027 - learning_rate: 8.5447e-04 - gradient_norm: 2.1560 - val_det_loss: 0.2925 - val_cls_loss: 0.1840 - val_box_loss: 0.0022 - val_reg_l2_loss: 0.0772 - val_loss: 0.3696\n",
            "Epoch 18/20\n",
            "24/24 [==============================] - 573s 24s/step - det_loss: 0.2475 - cls_loss: 0.1599 - box_loss: 0.0018 - reg_l2_loss: 0.0772 - loss: 0.3247 - learning_rate: 3.1842e-04 - gradient_norm: 1.9362 - val_det_loss: 0.2817 - val_cls_loss: 0.1797 - val_box_loss: 0.0020 - val_reg_l2_loss: 0.0772 - val_loss: 0.3589\n",
            "Epoch 19/20\n",
            "24/24 [==============================] - 574s 24s/step - det_loss: 0.2330 - cls_loss: 0.1532 - box_loss: 0.0016 - reg_l2_loss: 0.0772 - loss: 0.3102 - learning_rate: 4.6459e-05 - gradient_norm: 2.1356 - val_det_loss: 0.2743 - val_cls_loss: 0.1748 - val_box_loss: 0.0020 - val_reg_l2_loss: 0.0772 - val_loss: 0.3515\n",
            "Epoch 20/20\n",
            "24/24 [==============================] - 582s 24s/step - det_loss: 0.2361 - cls_loss: 0.1534 - box_loss: 0.0017 - reg_l2_loss: 0.0772 - loss: 0.3133 - learning_rate: 4.6005e-05 - gradient_norm: 2.6156 - val_det_loss: 0.2694 - val_cls_loss: 0.1725 - val_box_loss: 0.0019 - val_reg_l2_loss: 0.0772 - val_loss: 0.3466\n"
          ]
        }
      ]
    },
    {
      "cell_type": "code",
      "source": [
        "model.evaluate(val_data)"
      ],
      "metadata": {
        "colab": {
          "base_uri": "https://localhost:8080/"
        },
        "id": "8m3tnAw6tdwp",
        "outputId": "dd4a4ab3-57f0-4c3a-ba83-5dbf3423b61c"
      },
      "execution_count": 9,
      "outputs": [
        {
          "output_type": "stream",
          "name": "stdout",
          "text": [
            "\r1/1 [==============================] - 12s 12s/step\n",
            "\n"
          ]
        },
        {
          "output_type": "execute_result",
          "data": {
            "text/plain": [
              "{'AP': 0.7395625,\n",
              " 'AP50': 0.9970297,\n",
              " 'AP75': 0.8581274,\n",
              " 'AP_/human': 0.7395625,\n",
              " 'APl': 0.7602745,\n",
              " 'APm': 0.35,\n",
              " 'APs': -1.0,\n",
              " 'ARl': 0.82222223,\n",
              " 'ARm': 0.6,\n",
              " 'ARmax1': 0.55789477,\n",
              " 'ARmax10': 0.8105263,\n",
              " 'ARmax100': 0.8105263,\n",
              " 'ARs': -1.0}"
            ]
          },
          "metadata": {},
          "execution_count": 9
        }
      ]
    },
    {
      "cell_type": "code",
      "source": [
        "model.export(export_dir='.', tflite_filename='human_thermal_efflite2.tflite')"
      ],
      "metadata": {
        "id": "OzBqacgV0yRA"
      },
      "execution_count": 10,
      "outputs": []
    },
    {
      "cell_type": "code",
      "source": [
        "model.evaluate_tflite('human_thermal_efflite2.tflite', val_data)"
      ],
      "metadata": {
        "colab": {
          "base_uri": "https://localhost:8080/"
        },
        "id": "_4Hfcbch2GXj",
        "outputId": "0bea5b7c-0602-41da-e095-d85f57c77bab"
      },
      "execution_count": 11,
      "outputs": [
        {
          "output_type": "stream",
          "name": "stdout",
          "text": [
            "18/18 [==============================] - 168s 9s/step\n",
            "\n"
          ]
        },
        {
          "output_type": "execute_result",
          "data": {
            "text/plain": [
              "{'AP': 0.7059496,\n",
              " 'AP50': 1.0,\n",
              " 'AP75': 0.83226556,\n",
              " 'AP_/human': 0.7059496,\n",
              " 'APl': 0.73400486,\n",
              " 'APm': 0.25344828,\n",
              " 'APs': -1.0,\n",
              " 'ARl': 0.76666665,\n",
              " 'ARm': 0.5,\n",
              " 'ARmax1': 0.55789477,\n",
              " 'ARmax10': 0.74210525,\n",
              " 'ARmax100': 0.7526316,\n",
              " 'ARs': -1.0}"
            ]
          },
          "metadata": {},
          "execution_count": 11
        }
      ]
    },
    {
      "cell_type": "code",
      "source": [
        "# Download the TFLite model to your local computer.\n",
        "from google.colab import files\n",
        "files.download('human_thermal_efflite2.tflite')"
      ],
      "metadata": {
        "colab": {
          "base_uri": "https://localhost:8080/",
          "height": 17
        },
        "id": "GsboM9SF3BHm",
        "outputId": "dc90d2bb-799a-4377-a6d8-04071df02be7"
      },
      "execution_count": 12,
      "outputs": [
        {
          "output_type": "display_data",
          "data": {
            "text/plain": [
              "<IPython.core.display.Javascript object>"
            ],
            "application/javascript": [
              "\n",
              "    async function download(id, filename, size) {\n",
              "      if (!google.colab.kernel.accessAllowed) {\n",
              "        return;\n",
              "      }\n",
              "      const div = document.createElement('div');\n",
              "      const label = document.createElement('label');\n",
              "      label.textContent = `Downloading \"${filename}\": `;\n",
              "      div.appendChild(label);\n",
              "      const progress = document.createElement('progress');\n",
              "      progress.max = size;\n",
              "      div.appendChild(progress);\n",
              "      document.body.appendChild(div);\n",
              "\n",
              "      const buffers = [];\n",
              "      let downloaded = 0;\n",
              "\n",
              "      const channel = await google.colab.kernel.comms.open(id);\n",
              "      // Send a message to notify the kernel that we're ready.\n",
              "      channel.send({})\n",
              "\n",
              "      for await (const message of channel.messages) {\n",
              "        // Send a message to notify the kernel that we're ready.\n",
              "        channel.send({})\n",
              "        if (message.buffers) {\n",
              "          for (const buffer of message.buffers) {\n",
              "            buffers.push(buffer);\n",
              "            downloaded += buffer.byteLength;\n",
              "            progress.value = downloaded;\n",
              "          }\n",
              "        }\n",
              "      }\n",
              "      const blob = new Blob(buffers, {type: 'application/binary'});\n",
              "      const a = document.createElement('a');\n",
              "      a.href = window.URL.createObjectURL(blob);\n",
              "      a.download = filename;\n",
              "      div.appendChild(a);\n",
              "      a.click();\n",
              "      div.remove();\n",
              "    }\n",
              "  "
            ]
          },
          "metadata": {}
        },
        {
          "output_type": "display_data",
          "data": {
            "text/plain": [
              "<IPython.core.display.Javascript object>"
            ],
            "application/javascript": [
              "download(\"download_a8e4468f-7dbf-4629-8f3c-4c33e7e0fbb8\", \"human_thermal_efflite2.tflite\", 7390708)"
            ]
          },
          "metadata": {}
        }
      ]
    }
  ]
}